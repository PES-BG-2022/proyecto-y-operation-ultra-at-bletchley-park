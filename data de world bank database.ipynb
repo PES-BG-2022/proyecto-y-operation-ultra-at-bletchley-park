{
 "cells": [
  {
   "cell_type": "markdown",
   "metadata": {},
   "source": [
    "Fase de descarga de información:"
   ]
  },
  {
   "cell_type": "markdown",
   "metadata": {},
   "source": [
    "Es necesario instalar el lector de páginas web de pandas:"
   ]
  },
  {
   "cell_type": "code",
   "execution_count": 51,
   "metadata": {},
   "outputs": [
    {
     "name": "stdout",
     "output_type": "stream",
     "text": [
      "Requirement already satisfied: pandas-datareader in c:\\programdata\\anaconda3\\lib\\site-packages (0.10.0)\n",
      "Requirement already satisfied: requests>=2.19.0 in c:\\programdata\\anaconda3\\lib\\site-packages (from pandas-datareader) (2.26.0)\n",
      "Requirement already satisfied: pandas>=0.23 in c:\\programdata\\anaconda3\\lib\\site-packages (from pandas-datareader) (1.3.4)\n",
      "Requirement already satisfied: lxml in c:\\programdata\\anaconda3\\lib\\site-packages (from pandas-datareader) (4.6.3)\n",
      "Requirement already satisfied: numpy>=1.17.3 in c:\\programdata\\anaconda3\\lib\\site-packages (from pandas>=0.23->pandas-datareader) (1.20.3)\n",
      "Requirement already satisfied: pytz>=2017.3 in c:\\programdata\\anaconda3\\lib\\site-packages (from pandas>=0.23->pandas-datareader) (2021.3)\n",
      "Requirement already satisfied: python-dateutil>=2.7.3 in c:\\programdata\\anaconda3\\lib\\site-packages (from pandas>=0.23->pandas-datareader) (2.8.2)\n",
      "Requirement already satisfied: six>=1.5 in c:\\programdata\\anaconda3\\lib\\site-packages (from python-dateutil>=2.7.3->pandas>=0.23->pandas-datareader) (1.16.0)\n",
      "Requirement already satisfied: charset-normalizer~=2.0.0 in c:\\programdata\\anaconda3\\lib\\site-packages (from requests>=2.19.0->pandas-datareader) (2.0.4)\n",
      "Requirement already satisfied: urllib3<1.27,>=1.21.1 in c:\\programdata\\anaconda3\\lib\\site-packages (from requests>=2.19.0->pandas-datareader) (1.26.7)\n",
      "Requirement already satisfied: certifi>=2017.4.17 in c:\\programdata\\anaconda3\\lib\\site-packages (from requests>=2.19.0->pandas-datareader) (2021.10.8)\n",
      "Requirement already satisfied: idna<4,>=2.5 in c:\\programdata\\anaconda3\\lib\\site-packages (from requests>=2.19.0->pandas-datareader) (3.2)\n"
     ]
    }
   ],
   "source": [
    "!pip install pandas-datareader"
   ]
  },
  {
   "cell_type": "markdown",
   "metadata": {},
   "source": [
    "Importamos la librería de pandas:"
   ]
  },
  {
   "cell_type": "code",
   "execution_count": 52,
   "metadata": {},
   "outputs": [],
   "source": [
    "import pandas as pd"
   ]
  },
  {
   "cell_type": "markdown",
   "metadata": {},
   "source": [
    "Acá 'pandas datareader' hará la búsqueda en internet con las palabras que nosotros le proveemos para la búsqueda:"
   ]
  },
  {
   "cell_type": "code",
   "execution_count": 53,
   "metadata": {},
   "outputs": [],
   "source": [
    "from pandas_datareader import wb\n",
    "# matches = wb.search('gdp.*capita.*const')"
   ]
  },
  {
   "cell_type": "markdown",
   "metadata": {},
   "source": [
    "Acá es imprescindible conocer el \"indicador\" en el sitio web de donde estamos obteniendo la información.\n",
    "https://data.worldbank.org/indicator/NY.GDP.PCAP.KD\n",
    "\n",
    "Le instruimos que busque el PIB per cápita\n",
    "\n",
    "METADATOS:\n",
    "Indicator Code = NY.GDP.PCAP.KD\n",
    "Indicator Name = PIB per cápita (US$ a precios actuales)"
   ]
  },
  {
   "cell_type": "code",
   "execution_count": 54,
   "metadata": {},
   "outputs": [],
   "source": [
    "data_gdp = wb.download(indicator='NY.GDP.PCAP.KD', country=[], start=1960, end=2020)"
   ]
  },
  {
   "cell_type": "markdown",
   "metadata": {},
   "source": [
    "Imprimimos para verificar:"
   ]
  },
  {
   "cell_type": "code",
   "execution_count": 55,
   "metadata": {},
   "outputs": [
    {
     "name": "stdout",
     "output_type": "stream",
     "text": [
      "                                  NY.GDP.PCAP.KD\n",
      "country                     year                \n",
      "Africa Eastern and Southern 2020     1418.380523\n",
      "                            2019     1499.256275\n",
      "                            2018     1507.861055\n",
      "                            2017     1507.821357\n",
      "                            2016     1501.671310\n",
      "...                                          ...\n",
      "Zimbabwe                    1984     1479.935680\n",
      "                            1983     1564.916121\n",
      "                            1982     1597.890117\n",
      "                            1981     1614.210099\n",
      "                            1980     1486.218998\n",
      "\n",
      "[10906 rows x 1 columns]\n"
     ]
    }
   ],
   "source": [
    "print(data_gdp)"
   ]
  },
  {
   "cell_type": "code",
   "execution_count": null,
   "metadata": {},
   "outputs": [],
   "source": [
    "# Esta es una forma de consultar países en particular\n",
    "# data_gdp = wb.download(indicator='NY.GDP.PCAP.KD', country=['US', 'CA', 'MX'], start=1980, end=2020)"
   ]
  },
  {
   "cell_type": "markdown",
   "metadata": {},
   "source": [
    "Ahora procedemos a descargar \"Esperanza de vida\".\n",
    "\n",
    "METADATOS:\n",
    "Indicator Code = SP.DYN.LE00.IN\n",
    "Indicator Name = Esperanza de vida al nacer, total (años)"
   ]
  },
  {
   "cell_type": "code",
   "execution_count": 66,
   "metadata": {},
   "outputs": [
    {
     "name": "stdout",
     "output_type": "stream",
     "text": [
      "                                  SP.DYN.LE00.IN\n",
      "country                     year                \n",
      "Africa Eastern and Southern 2020             NaN\n",
      "                            2019       64.005197\n",
      "                            2018       63.648988\n",
      "                            2017       63.246264\n",
      "                            2016       62.787681\n",
      "...                                          ...\n",
      "Zimbabwe                    1984       61.280000\n",
      "                            1983       61.025000\n",
      "                            1982       60.650000\n",
      "                            1981       60.203000\n",
      "                            1980       59.731000\n",
      "\n",
      "[10906 rows x 1 columns]\n"
     ]
    }
   ],
   "source": [
    "data_life = wb.download(indicator='SP.DYN.LE00.IN', country=[], start=1960, end=2020)\n",
    "print(data_life)"
   ]
  },
  {
   "cell_type": "markdown",
   "metadata": {},
   "source": [
    "Procedemos a descargar la información de mortalidad infantil\n",
    "\n",
    "METADATOS:\n",
    "Indicator Code = SH.DYN.NMRT \n",
    "Indicator Name = Tasa de mortalidad, neonatal (por cada 1.000 nacidos vivos)"
   ]
  },
  {
   "cell_type": "code",
   "execution_count": 57,
   "metadata": {},
   "outputs": [
    {
     "name": "stdout",
     "output_type": "stream",
     "text": [
      "                                  SH.DYN.NMRT\n",
      "country                     year             \n",
      "Africa Eastern and Southern 2020          NaN\n",
      "                            2019    24.387831\n",
      "                            2018    24.938211\n",
      "                            2017    25.480369\n",
      "                            2016    26.014181\n",
      "...                                       ...\n",
      "Zimbabwe                    1984    28.500000\n",
      "                            1983    29.300000\n",
      "                            1982    30.200000\n",
      "                            1981    31.100000\n",
      "                            1980    31.800000\n",
      "\n",
      "[10906 rows x 1 columns]\n"
     ]
    }
   ],
   "source": [
    "data_mort = wb.download(indicator='SH.DYN.NMRT', country=[], start=1960, end=2020)\n",
    "print(data_mort)"
   ]
  },
  {
   "cell_type": "markdown",
   "metadata": {},
   "source": [
    "Procedemos a descargar la información de población\n",
    "\n",
    "METADATOS:\n",
    "Indicator Code = SP.POP.TOTL\n",
    "Indicator Name = Población, total"
   ]
  },
  {
   "cell_type": "code",
   "execution_count": 58,
   "metadata": {},
   "outputs": [
    {
     "name": "stdout",
     "output_type": "stream",
     "text": [
      "                                  SP.POP.TOTL\n",
      "country                     year             \n",
      "Africa Eastern and Southern 2020  677243299.0\n",
      "                            2019  660046272.0\n",
      "                            2018  643090131.0\n",
      "                            2017  626392880.0\n",
      "                            2016  609978946.0\n",
      "...                                       ...\n",
      "Zimbabwe                    1984    8562259.0\n",
      "                            1983    8254746.0\n",
      "                            1982    7958239.0\n",
      "                            1981    7675582.0\n",
      "                            1980    7408630.0\n",
      "\n",
      "[10906 rows x 1 columns]\n"
     ]
    }
   ],
   "source": [
    "data_pop = wb.download(indicator='SP.POP.TOTL', country=[], start=1960, end=2020)\n",
    "print(data_pop)"
   ]
  },
  {
   "cell_type": "markdown",
   "metadata": {},
   "source": [
    "Procedemos a combinar toda la información (PIB per cápita, Esperanza de vida, población y mortalidad infantil) en un solo \"data frame\" que utilizaremos de ahora en adelante"
   ]
  },
  {
   "cell_type": "code",
   "execution_count": 60,
   "metadata": {},
   "outputs": [
    {
     "data": {
      "text/html": [
       "<div>\n",
       "<style scoped>\n",
       "    .dataframe tbody tr th:only-of-type {\n",
       "        vertical-align: middle;\n",
       "    }\n",
       "\n",
       "    .dataframe tbody tr th {\n",
       "        vertical-align: top;\n",
       "    }\n",
       "\n",
       "    .dataframe thead th {\n",
       "        text-align: right;\n",
       "    }\n",
       "</style>\n",
       "<table border=\"1\" class=\"dataframe\">\n",
       "  <thead>\n",
       "    <tr style=\"text-align: right;\">\n",
       "      <th></th>\n",
       "      <th></th>\n",
       "      <th>NY.GDP.PCAP.KD</th>\n",
       "      <th>SP.DYN.LE00.IN</th>\n",
       "      <th>SP.POP.TOTL</th>\n",
       "      <th>SH.DYN.NMRT</th>\n",
       "    </tr>\n",
       "    <tr>\n",
       "      <th>country</th>\n",
       "      <th>year</th>\n",
       "      <th></th>\n",
       "      <th></th>\n",
       "      <th></th>\n",
       "      <th></th>\n",
       "    </tr>\n",
       "  </thead>\n",
       "  <tbody>\n",
       "    <tr>\n",
       "      <th rowspan=\"5\" valign=\"top\">Africa Eastern and Southern</th>\n",
       "      <th>2020</th>\n",
       "      <td>1418.380523</td>\n",
       "      <td>NaN</td>\n",
       "      <td>677243299.0</td>\n",
       "      <td>NaN</td>\n",
       "    </tr>\n",
       "    <tr>\n",
       "      <th>2019</th>\n",
       "      <td>1499.256275</td>\n",
       "      <td>64.005197</td>\n",
       "      <td>660046272.0</td>\n",
       "      <td>24.387831</td>\n",
       "    </tr>\n",
       "    <tr>\n",
       "      <th>2018</th>\n",
       "      <td>1507.861055</td>\n",
       "      <td>63.648988</td>\n",
       "      <td>643090131.0</td>\n",
       "      <td>24.938211</td>\n",
       "    </tr>\n",
       "    <tr>\n",
       "      <th>2017</th>\n",
       "      <td>1507.821357</td>\n",
       "      <td>63.246264</td>\n",
       "      <td>626392880.0</td>\n",
       "      <td>25.480369</td>\n",
       "    </tr>\n",
       "    <tr>\n",
       "      <th>2016</th>\n",
       "      <td>1501.671310</td>\n",
       "      <td>62.787681</td>\n",
       "      <td>609978946.0</td>\n",
       "      <td>26.014181</td>\n",
       "    </tr>\n",
       "    <tr>\n",
       "      <th>...</th>\n",
       "      <th>...</th>\n",
       "      <td>...</td>\n",
       "      <td>...</td>\n",
       "      <td>...</td>\n",
       "      <td>...</td>\n",
       "    </tr>\n",
       "    <tr>\n",
       "      <th rowspan=\"5\" valign=\"top\">Zimbabwe</th>\n",
       "      <th>1984</th>\n",
       "      <td>1479.935680</td>\n",
       "      <td>61.280000</td>\n",
       "      <td>8562259.0</td>\n",
       "      <td>28.500000</td>\n",
       "    </tr>\n",
       "    <tr>\n",
       "      <th>1983</th>\n",
       "      <td>1564.916121</td>\n",
       "      <td>61.025000</td>\n",
       "      <td>8254746.0</td>\n",
       "      <td>29.300000</td>\n",
       "    </tr>\n",
       "    <tr>\n",
       "      <th>1982</th>\n",
       "      <td>1597.890117</td>\n",
       "      <td>60.650000</td>\n",
       "      <td>7958239.0</td>\n",
       "      <td>30.200000</td>\n",
       "    </tr>\n",
       "    <tr>\n",
       "      <th>1981</th>\n",
       "      <td>1614.210099</td>\n",
       "      <td>60.203000</td>\n",
       "      <td>7675582.0</td>\n",
       "      <td>31.100000</td>\n",
       "    </tr>\n",
       "    <tr>\n",
       "      <th>1980</th>\n",
       "      <td>1486.218998</td>\n",
       "      <td>59.731000</td>\n",
       "      <td>7408630.0</td>\n",
       "      <td>31.800000</td>\n",
       "    </tr>\n",
       "  </tbody>\n",
       "</table>\n",
       "<p>10906 rows × 4 columns</p>\n",
       "</div>"
      ],
      "text/plain": [
       "                                  NY.GDP.PCAP.KD  SP.DYN.LE00.IN  SP.POP.TOTL  \\\n",
       "country                     year                                                \n",
       "Africa Eastern and Southern 2020     1418.380523             NaN  677243299.0   \n",
       "                            2019     1499.256275       64.005197  660046272.0   \n",
       "                            2018     1507.861055       63.648988  643090131.0   \n",
       "                            2017     1507.821357       63.246264  626392880.0   \n",
       "                            2016     1501.671310       62.787681  609978946.0   \n",
       "...                                          ...             ...          ...   \n",
       "Zimbabwe                    1984     1479.935680       61.280000    8562259.0   \n",
       "                            1983     1564.916121       61.025000    8254746.0   \n",
       "                            1982     1597.890117       60.650000    7958239.0   \n",
       "                            1981     1614.210099       60.203000    7675582.0   \n",
       "                            1980     1486.218998       59.731000    7408630.0   \n",
       "\n",
       "                                  SH.DYN.NMRT  \n",
       "country                     year               \n",
       "Africa Eastern and Southern 2020          NaN  \n",
       "                            2019    24.387831  \n",
       "                            2018    24.938211  \n",
       "                            2017    25.480369  \n",
       "                            2016    26.014181  \n",
       "...                                       ...  \n",
       "Zimbabwe                    1984    28.500000  \n",
       "                            1983    29.300000  \n",
       "                            1982    30.200000  \n",
       "                            1981    31.100000  \n",
       "                            1980    31.800000  \n",
       "\n",
       "[10906 rows x 4 columns]"
      ]
     },
     "execution_count": 60,
     "metadata": {},
     "output_type": "execute_result"
    }
   ],
   "source": [
    "df1 = pd.concat([data_gdp, data_life.reindex(data_gdp.index), data_pop.reindex(data_gdp.index), data_mort.reindex(data_gdp.index)], axis=1)\n",
    "df1"
   ]
  },
  {
   "cell_type": "code",
   "execution_count": 65,
   "metadata": {},
   "outputs": [
    {
     "data": {
      "text/html": [
       "<div>\n",
       "<style scoped>\n",
       "    .dataframe tbody tr th:only-of-type {\n",
       "        vertical-align: middle;\n",
       "    }\n",
       "\n",
       "    .dataframe tbody tr th {\n",
       "        vertical-align: top;\n",
       "    }\n",
       "\n",
       "    .dataframe thead th {\n",
       "        text-align: right;\n",
       "    }\n",
       "</style>\n",
       "<table border=\"1\" class=\"dataframe\">\n",
       "  <thead>\n",
       "    <tr style=\"text-align: right;\">\n",
       "      <th></th>\n",
       "      <th></th>\n",
       "      <th>NY.GDP.PCAP.KD</th>\n",
       "      <th>SP.DYN.LE00.IN</th>\n",
       "      <th>SP.POP.TOTL</th>\n",
       "      <th>SH.DYN.NMRT</th>\n",
       "    </tr>\n",
       "    <tr>\n",
       "      <th>country</th>\n",
       "      <th>year</th>\n",
       "      <th></th>\n",
       "      <th></th>\n",
       "      <th></th>\n",
       "      <th></th>\n",
       "    </tr>\n",
       "  </thead>\n",
       "  <tbody>\n",
       "    <tr>\n",
       "      <th rowspan=\"5\" valign=\"top\">Africa Eastern and Southern</th>\n",
       "      <th>2019</th>\n",
       "      <td>1499.256275</td>\n",
       "      <td>64.005197</td>\n",
       "      <td>660046272.0</td>\n",
       "      <td>24.387831</td>\n",
       "    </tr>\n",
       "    <tr>\n",
       "      <th>2018</th>\n",
       "      <td>1507.861055</td>\n",
       "      <td>63.648988</td>\n",
       "      <td>643090131.0</td>\n",
       "      <td>24.938211</td>\n",
       "    </tr>\n",
       "    <tr>\n",
       "      <th>2017</th>\n",
       "      <td>1507.821357</td>\n",
       "      <td>63.246264</td>\n",
       "      <td>626392880.0</td>\n",
       "      <td>25.480369</td>\n",
       "    </tr>\n",
       "    <tr>\n",
       "      <th>2016</th>\n",
       "      <td>1501.671310</td>\n",
       "      <td>62.787681</td>\n",
       "      <td>609978946.0</td>\n",
       "      <td>26.014181</td>\n",
       "    </tr>\n",
       "    <tr>\n",
       "      <th>2015</th>\n",
       "      <td>1507.800256</td>\n",
       "      <td>62.259288</td>\n",
       "      <td>593871847.0</td>\n",
       "      <td>26.601909</td>\n",
       "    </tr>\n",
       "    <tr>\n",
       "      <th>...</th>\n",
       "      <th>...</th>\n",
       "      <td>...</td>\n",
       "      <td>...</td>\n",
       "      <td>...</td>\n",
       "      <td>...</td>\n",
       "    </tr>\n",
       "    <tr>\n",
       "      <th rowspan=\"5\" valign=\"top\">Zimbabwe</th>\n",
       "      <th>1984</th>\n",
       "      <td>1479.935680</td>\n",
       "      <td>61.280000</td>\n",
       "      <td>8562259.0</td>\n",
       "      <td>28.500000</td>\n",
       "    </tr>\n",
       "    <tr>\n",
       "      <th>1983</th>\n",
       "      <td>1564.916121</td>\n",
       "      <td>61.025000</td>\n",
       "      <td>8254746.0</td>\n",
       "      <td>29.300000</td>\n",
       "    </tr>\n",
       "    <tr>\n",
       "      <th>1982</th>\n",
       "      <td>1597.890117</td>\n",
       "      <td>60.650000</td>\n",
       "      <td>7958239.0</td>\n",
       "      <td>30.200000</td>\n",
       "    </tr>\n",
       "    <tr>\n",
       "      <th>1981</th>\n",
       "      <td>1614.210099</td>\n",
       "      <td>60.203000</td>\n",
       "      <td>7675582.0</td>\n",
       "      <td>31.100000</td>\n",
       "    </tr>\n",
       "    <tr>\n",
       "      <th>1980</th>\n",
       "      <td>1486.218998</td>\n",
       "      <td>59.731000</td>\n",
       "      <td>7408630.0</td>\n",
       "      <td>31.800000</td>\n",
       "    </tr>\n",
       "  </tbody>\n",
       "</table>\n",
       "<p>7778 rows × 4 columns</p>\n",
       "</div>"
      ],
      "text/plain": [
       "                                  NY.GDP.PCAP.KD  SP.DYN.LE00.IN  SP.POP.TOTL  \\\n",
       "country                     year                                                \n",
       "Africa Eastern and Southern 2019     1499.256275       64.005197  660046272.0   \n",
       "                            2018     1507.861055       63.648988  643090131.0   \n",
       "                            2017     1507.821357       63.246264  626392880.0   \n",
       "                            2016     1501.671310       62.787681  609978946.0   \n",
       "                            2015     1507.800256       62.259288  593871847.0   \n",
       "...                                          ...             ...          ...   \n",
       "Zimbabwe                    1984     1479.935680       61.280000    8562259.0   \n",
       "                            1983     1564.916121       61.025000    8254746.0   \n",
       "                            1982     1597.890117       60.650000    7958239.0   \n",
       "                            1981     1614.210099       60.203000    7675582.0   \n",
       "                            1980     1486.218998       59.731000    7408630.0   \n",
       "\n",
       "                                  SH.DYN.NMRT  \n",
       "country                     year               \n",
       "Africa Eastern and Southern 2019    24.387831  \n",
       "                            2018    24.938211  \n",
       "                            2017    25.480369  \n",
       "                            2016    26.014181  \n",
       "                            2015    26.601909  \n",
       "...                                       ...  \n",
       "Zimbabwe                    1984    28.500000  \n",
       "                            1983    29.300000  \n",
       "                            1982    30.200000  \n",
       "                            1981    31.100000  \n",
       "                            1980    31.800000  \n",
       "\n",
       "[7778 rows x 4 columns]"
      ]
     },
     "execution_count": 65,
     "metadata": {},
     "output_type": "execute_result"
    }
   ],
   "source": [
    "df = df1.dropna()\n",
    "df"
   ]
  }
 ],
 "metadata": {
  "interpreter": {
   "hash": "b3ba2566441a7c06988d0923437866b63cedc61552a5af99d1f4fb67d367b25f"
  },
  "kernelspec": {
   "display_name": "Python 3.9.7 64-bit ('base': conda)",
   "language": "python",
   "name": "python3"
  },
  "language_info": {
   "codemirror_mode": {
    "name": "ipython",
    "version": 3
   },
   "file_extension": ".py",
   "mimetype": "text/x-python",
   "name": "python",
   "nbconvert_exporter": "python",
   "pygments_lexer": "ipython3",
   "version": "3.9.7"
  },
  "orig_nbformat": 4
 },
 "nbformat": 4,
 "nbformat_minor": 2
}
