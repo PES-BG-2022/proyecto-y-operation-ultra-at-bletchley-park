{
 "cells": [
  {
   "cell_type": "code",
   "execution_count": 11,
   "metadata": {},
   "outputs": [
    {
     "name": "stdout",
     "output_type": "stream",
     "text": [
      "Dash app running on http://127.0.0.1:8050/\n"
     ]
    },
    {
     "name": "stderr",
     "output_type": "stream",
     "text": [
      "C:\\Users\\oreno\\anaconda3\\lib\\site-packages\\jupyter_dash\\jupyter_app.py:139: UserWarning:\n",
      "\n",
      "The 'environ['werkzeug.server.shutdown']' function is deprecated and will be removed in Werkzeug 2.1.\n",
      "\n"
     ]
    }
   ],
   "source": [
    "# IMPORTANTE Para usar Dash en Jupyter hay que instalar esta extención jupyter-dash\n",
    "# conda install -c conda-forge -c plotly jupyter-dash\n",
    "\n",
    "# Importamos los módulos a utilizar\n",
    "\n",
    "import dash\n",
    "import dash_core_components as dcc\n",
    "import dash_html_components as html\n",
    "from dash.dependencies import Input, Output\n",
    "import plotly.express as px\n",
    "from jupyter_dash import JupyterDash\n",
    "\n",
    "import pandas as pd\n",
    "\n",
    "# Cargando los datos a utilizar\n",
    "# En este caso importamos desde un csv pero se puede hacer desde cualquier repositorio.\n",
    "df = pd.read_csv(\"datos_final.csv\")\n",
    "\n",
    "# Creando la app\n",
    "# Si estamos creando la app desde un scrip debemos colocar la linea de código de abajo\n",
    "#app = dash.Dash(__name__)\n",
    "\n",
    "# Si estamos en Jupyter debemos correr la linea de código de abajo\n",
    "app = JupyterDash(__name__)\n",
    "\n",
    "# Creación de los elementos gráficos a visualizar\n",
    "# con app.layoyt creamos los elementos gráficos que van a aparecer en el Dash\n",
    "app.layout = html.Div([html.H1(\"Relación del PIB per cápita y mortalidad infaltil\"),\n",
    "    html.H2(\"Una relación a lo largo del tiempo\"),\n",
    "    dcc.Graph(id=\"grafica-con-slider\"),\n",
    "    dcc.Slider(\n",
    "        id=\"año-slider\",\n",
    "        min=df[\"Año\"].min(),\n",
    "        max=df[\"Año\"].max(),\n",
    "        value=df[\"Año\"].min(),\n",
    "        marks={str(year): str(year) for year in df[\"Año\"].unique()},\n",
    "        step=None\n",
    "    ),\n",
    "    html.Div(children='''\n",
    "        El diametro de cada gráfica representa la población del país\n",
    "    '''),\n",
    "        html.Div(children='''\n",
    "        El color de cada gráfica representa la región del país\n",
    "    '''),\n",
    "            html.Div(children='''\n",
    "        Orenos y Morales (2022)\n",
    "    ''')\n",
    "])\n",
    "\n",
    "# Creación del callback para hacer la interacción entre datos y elementos gráficos\n",
    "\n",
    "@app.callback(\n",
    "    Output(\"grafica-con-slider\", \"figure\"),\n",
    "    Input(\"año-slider\", \"value\"))\n",
    "def update_figure(selected_year):\n",
    "    filtered_df = df[df.Año == selected_year]\n",
    "\n",
    "    fig = px.scatter(filtered_df, x=\"PIB per cápita\", y=\"Moratalidad Infantil\",\n",
    "                     size=\"Población\", color = \"Región\" ,hover_name=\"country\",\n",
    "                     size_max=55)\n",
    "\n",
    "    fig.update_layout(transition_duration=500)\n",
    "\n",
    "    return fig\n",
    "\n",
    "\n",
    "if __name__ == '__main__':\n",
    "    app.run_server(debug=True)"
   ]
  },
  {
   "cell_type": "markdown",
   "metadata": {},
   "source": []
  },
  {
   "cell_type": "markdown",
   "metadata": {},
   "source": [
    "# Recomendación\n",
    "\n",
    "Dentro del apartado **layout** se encuentran todos los elementos visuales que se incorporan en el dashboard. Los elementos gráficos se van a mostrar en el orden en el que sean añadidos luego de escribir app.layout = html.Div([*\"Aquí se coloca la lista de elementos gráficos de nuestro dashboard\"*]). Además se recomienda que cada gráfica se acompañe de un identificador denominado **id** que es único y que sirve para identificarlo en los **callbacks**.  \n",
    "\n",
    "El siguiente código es un ejemplo de como se debe escribir para conseguir el siguiente dashboard.\n",
    "\n",
    "![codigo de Layout](Imagenes/codigo1.png)\n",
    "\n",
    "![codigo de Layout](Imagenes/dash_completo.png)\n",
    "\n"
   ]
  },
  {
   "cell_type": "markdown",
   "metadata": {},
   "source": [
    "# Insetar títulos\n",
    "![titulos](Imagenes/titulos.png)\n",
    "\n",
    "Para ello hacemos uso de los elemntos **html H1** para el título principal, **H2 para un subtítulo** y de este modo cualquier tipo de subtítulo.\n",
    "\n",
    "El código a utilizar es:\n",
    "\n",
    "app.layout = html.Div([html.**H1**(\"Relación del PIB per cápita y mortalidad infaltil\"),\n",
    "    html.**H2**(\"Una relación a lo largo del tiempo\"),\n",
    "    \n",
    "### Otro tipo de textos son\n",
    "\n",
    "![textos](Imagenes/textos.png)\n",
    "\n",
    "El código a utilizar es:\n",
    "\n",
    "    html.Div(children='''\n",
    "        El diametro de cada gráfica representa la población del país\n",
    "    '''),\n",
    "        html.Div(children='''\n",
    "        El color de cada gráfica representa la región del país\n",
    "    '''),\n",
    "            html.Div(children='''\n",
    "        Orenos y Morales (2022)\n",
    "    ''')"
   ]
  },
  {
   "cell_type": "markdown",
   "metadata": {},
   "source": [
    "# Interacción entre los datos y los elementos gráficos\n",
    "## Callbacks\n",
    "\n",
    "Para lograr la interacción entre los datos y los elementos gráficos se tiene que hacer uso de los callbacks. Estos se dividan entres partes escenciales.\n",
    "- **Output** Son los elementos gráficos que se van a modificar. Deben identificarse con su **id** y el tipo de elemento que es.\n",
    "- **Inpup** Son los elementos con los que se van a interactuar para modificar el output. de igual forma de sebe indicar su id y que tipo de elemento es.\n",
    "- **Función actualizadora** Se debe escribir una función actualizadora del elemento **output** para que muestre los datos que se desea.\n",
    "\n",
    "En el ejemplo que se muestra a continuación la gráfica es el **output**, el slide es el **input** y por último se presenta la **función actualizadora**.\n",
    "\n",
    "![Callback](Imagenes/callbacks.png)\n",
    "\n",
    "### Se deben escribir tantos callbacks como sean necesarios"
   ]
  },
  {
   "cell_type": "markdown",
   "metadata": {},
   "source": [
    "# Final del código\n",
    "\n",
    "Finalmente se debe escribir el siguiente código para finalizar el programa.\n",
    "\n",
    "![Imagenes](Imagenes/final.png)\n",
    "\n"
   ]
  }
 ],
 "metadata": {
  "interpreter": {
   "hash": "31ab54fb11008b60a700819bbfb9c6d818be629174526240f2df5b397a0bcfdd"
  },
  "kernelspec": {
   "display_name": "Python 3.9.7 64-bit ('base': conda)",
   "language": "python",
   "name": "python3"
  },
  "language_info": {
   "codemirror_mode": {
    "name": "ipython",
    "version": 3
   },
   "file_extension": ".py",
   "mimetype": "text/x-python",
   "name": "python",
   "nbconvert_exporter": "python",
   "pygments_lexer": "ipython3",
   "version": "3.9.7"
  },
  "orig_nbformat": 4
 },
 "nbformat": 4,
 "nbformat_minor": 2
}
